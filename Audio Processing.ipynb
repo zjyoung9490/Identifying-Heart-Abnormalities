{
 "cells": [
  {
   "cell_type": "code",
   "execution_count": 1,
   "metadata": {},
   "outputs": [],
   "source": [
    "# Pandas\n",
    "import pandas as pd\n",
    "\n",
    "# Scikit learn\n",
    "from sklearn import metrics\n",
    "from sklearn.model_selection import train_test_split\n",
    "from sklearn.metrics import classification_report, accuracy_score, confusion_matrix\n",
    "from sklearn.preprocessing import LabelEncoder\n",
    "from sklearn.utils import shuffle\n",
    "from sklearn.utils import class_weight\n",
    "from sklearn.model_selection import cross_val_score\n",
    "\n",
    "# Audio\n",
    "import librosa\n",
    "import librosa.display\n",
    "import wave\n",
    "import IPython.display as ipd\n",
    "\n",
    "# Utility\n",
    "import os\n",
    "from glob import glob\n",
    "import numpy as np\n",
    "from tqdm import tqdm\n",
    "import itertools\n",
    "import numpy as np\n",
    "from scipy.io import wavfile\n",
    "import fnmatch"
   ]
  },
  {
   "cell_type": "code",
   "execution_count": 2,
   "metadata": {},
   "outputs": [],
   "source": [
    "# Function for getting recording duration\n",
    "def get_recording_times(audio_files):\n",
    "    data = []\n",
    "    for file in audio_files:\n",
    "        y, sr = librosa.load(file)\n",
    "        dur = librosa.get_duration(y)\n",
    "        data.append(dur)\n",
    "    return data"
   ]
  },
  {
   "cell_type": "code",
   "execution_count": 3,
   "metadata": {},
   "outputs": [],
   "source": [
    "# Function for getting spectrogram data\n",
    "def get_amplitude_to_db(audio_files):\n",
    "    data = []\n",
    "    for file in audio_files:\n",
    "        y, sr = librosa.load(file)\n",
    "        D = librosa.amplitude_to_db(np.abs(librosa.stft(y)), ref=np.max)\n",
    "        data.append(D)\n",
    "    return data"
   ]
  },
  {
   "cell_type": "code",
   "execution_count": 4,
   "metadata": {},
   "outputs": [],
   "source": [
    "# Function for getting mfcc data\n",
    "def get_mfcc(audio_files):\n",
    "    data = []\n",
    "    for file in audio_files:\n",
    "        y, sr = librosa.load(file)\n",
    "        mfccs = librosa.feature.mfcc(y=y, sr=sr, n_mfcc=40)\n",
    "        data.append(mfccs)\n",
    "    return data"
   ]
  },
  {
   "cell_type": "code",
   "execution_count": 5,
   "metadata": {},
   "outputs": [],
   "source": [
    "# get audio data with a fix padding may also chop off some file\n",
    "def load_file_data (folder,file_names, duration=12, sr=16000):\n",
    "    input_length=sr*duration\n",
    "    # function to load files and extract features\n",
    "    # file_names = glob.glob(os.path.join(folder, '*.wav'))\n",
    "    data = []\n",
    "    for file_name in file_names:\n",
    "        try:\n",
    "            sound_file=folder+file_name\n",
    "            print (\"load file \",sound_file)\n",
    "            # use kaiser_fast technique for faster extraction\n",
    "            X, sr = librosa.load( sound_file, sr=sr, duration=duration,res_type='kaiser_fast') \n",
    "            dur = librosa.get_duration(y=X, sr=sr)\n",
    "            # pad audio file same duration\n",
    "            if (round(dur) < duration):\n",
    "                print (\"fixing audio length :\", file_name)\n",
    "                y = librosa.util.fix_length(X, input_length)                \n",
    "            #normalized raw audio \n",
    "            # y = audio_norm(y)            \n",
    "            # extract normalized mfcc feature from data\n",
    "            mfccs = np.mean(librosa.feature.mfcc(y=X, sr=sr, n_mfcc=40).T,axis=0)             \n",
    "        except Exception as e:\n",
    "            print(\"Error encountered while parsing file: \", file)        \n",
    "        feature = np.array(mfccs).reshape([-1,1])\n",
    "        data.append(feature)\n",
    "    return data"
   ]
  },
  {
   "cell_type": "code",
   "execution_count": null,
   "metadata": {},
   "outputs": [],
   "source": [
    "# parent folder of sound files\n",
    "INPUT_DIR=\"./Documents\"\n",
    "# 16 KHz\n",
    "SAMPLE_RATE = 16000\n",
    "# seconds\n",
    "MAX_SOUND_CLIP_DURATION=100  \n",
    "\n",
    "#Load dataset a and b\n",
    "A_folder=INPUT_DIR+'/Thinkful/training/training-a/'\n",
    "\n",
    "# set-a abnormal\n",
    "A_files = fnmatch.filter(os.listdir(INPUT_DIR+'/Thinkful/training/training-a/'), 'a0*.wav')\n",
    "A_sounds = load_file_data(folder=A_folder,file_names=A_files, duration=MAX_SOUND_CLIP_DURATION)\n",
    "A_labels = [-1 for items in A_files]"
   ]
  },
  {
   "cell_type": "code",
   "execution_count": null,
   "metadata": {},
   "outputs": [],
   "source": [
    "#example\n",
    "#Load the test set \n",
    "#Load dataset a and b\n",
    "INPUT_DIR = './Documents'\n",
    "TestA_folder=INPUT_DIR+'/set_a/'\n",
    "\n",
    "# Load test set-a\n",
    "A_normal_files = fnmatch.filter(os.listdir(INPUT_DIR+'/set_a'), 'normal*.wav')\n",
    "A_normal_sounds = load_file_mfcc(folder=TestA_folder,file_names=A_normal_files, duration=MAX_SOUND_CLIP_DURATION)\n",
    "A_normal_labels = [0 for items in A_normal_sounds]\n",
    "\n",
    "A_murmur_files = fnmatch.filter(os.listdir(INPUT_DIR+'/set_a'), 'murmur*.wav')\n",
    "A_murmur_sounds = load_file_mfcc(folder=TestA_folder,file_names=A_murmur_files, duration=MAX_SOUND_CLIP_DURATION)\n",
    "A_murmur_labels = [1 for items in A_murmur_files]"
   ]
  },
  {
   "cell_type": "code",
   "execution_count": null,
   "metadata": {},
   "outputs": [],
   "source": [
    "test_normal = pd.DataFrame()\n",
    "test_normal['Label'] = A_normal_labels\n",
    "test_normal['mfccs'] = A_normal_sounds\n",
    "test_normal['mfccs_flat'] = flat_(A_normal_sounds)\n",
    "test_normal.head()"
   ]
  },
  {
   "cell_type": "code",
   "execution_count": null,
   "metadata": {},
   "outputs": [],
   "source": [
    "test_abnormal = pd.DataFrame()\n",
    "test_abnormal['Label'] = A_murmur_labels\n",
    "test_abnormal['mfccs'] = A_murmur_sounds\n",
    "test_abnormal['mfccs_flat'] = flat_(A_murmur_sounds)\n",
    "test_abnormal.head()"
   ]
  }
 ],
 "metadata": {
  "kernelspec": {
   "display_name": "Python 3",
   "language": "python",
   "name": "python3"
  },
  "language_info": {
   "codemirror_mode": {
    "name": "ipython",
    "version": 3
   },
   "file_extension": ".py",
   "mimetype": "text/x-python",
   "name": "python",
   "nbconvert_exporter": "python",
   "pygments_lexer": "ipython3",
   "version": "3.7.3"
  }
 },
 "nbformat": 4,
 "nbformat_minor": 2
}
